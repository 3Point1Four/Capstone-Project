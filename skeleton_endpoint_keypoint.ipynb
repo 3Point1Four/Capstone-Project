{
  "nbformat": 4,
  "nbformat_minor": 0,
  "metadata": {
    "colab": {
      "provenance": []
    },
    "kernelspec": {
      "name": "python3",
      "display_name": "Python 3"
    },
    "language_info": {
      "name": "python"
    }
  },
  "cells": [
    {
      "cell_type": "code",
      "source": [
        "import matplotlib.pyplot as plt\n",
        "from skimage import io, color, transform\n",
        "from skimage.filters import threshold_otsu\n",
        "from skimage.morphology import skeletonize\n",
        "import numpy as np\n",
        "import cv2"
      ],
      "metadata": {
        "id": "kzgysQ5JRzeC"
      },
      "execution_count": 1,
      "outputs": []
    },
    {
      "cell_type": "code",
      "source": [
        "image_path = 'A-0.png'\n",
        "image = io.imread(image_path)\n",
        "\n",
        "if image.ndim == 3:\n",
        "    image = color.rgb2gray(image)\n",
        "\n",
        "threshold_value = threshold_otsu(image)\n",
        "binary_image = image > threshold_value\n",
        "\n",
        "skeleton = skeletonize(binary_image)\n",
        "\n",
        "image = transform.resize(image, (28, 28))\n",
        "skeleton = transform.resize(skeleton, (28, 28))\n",
        "\n",
        "plt.figure(figsize=(1, 1))\n",
        "\n",
        "plt.imshow(skeleton, cmap=plt.cm.gray)\n",
        "plt.axis('off')\n",
        "plt.subplots_adjust(left=0, right=1, top=1, bottom=0)\n",
        "plt.savefig('skeleton_image.png', format='png', dpi=28)"
      ],
      "metadata": {
        "colab": {
          "base_uri": "https://localhost:8080/",
          "height": 137
        },
        "id": "9JrFi9cqR65h",
        "outputId": "c7ca00f7-5f4e-49ac-f59d-b88acae383da"
      },
      "execution_count": 3,
      "outputs": [
        {
          "output_type": "display_data",
          "data": {
            "text/plain": [
              "<Figure size 100x100 with 1 Axes>"
            ],
            "image/png": "[encoded data removed]"
          },
          "metadata": {}
        }
      ]
    },
    {
      "cell_type": "code",
      "source": [
        "import cv2\n",
        "import numpy as np\n",
        "\n",
        "path = 'skeleton_image.png'\n",
        "img = cv2.imread(path, 0)\n",
        "\n",
        "(rows, cols) = np.nonzero(img)\n",
        "\n",
        "endpoint_coords = []\n",
        "\n",
        "for (r, c) in zip(rows, cols):\n",
        "    top = max(0, r - 1)\n",
        "    right = min(img.shape[1] - 1, c + 1)\n",
        "    bottom = min(img.shape[0] - 1, r + 1)\n",
        "    left = max(0, c - 1)\n",
        "\n",
        "    sub_img = img[top: bottom + 1, left: right + 1]\n",
        "    if np.sum(sub_img) == 255*2:\n",
        "        endpoint_coords.append((r,c))\n",
        "\n",
        "print(endpoint_coords)"
      ],
      "metadata": {
        "colab": {
          "base_uri": "https://localhost:8080/"
        },
        "id": "XCA5RAfEUf_Q",
        "outputId": "67d2e80e-2a4d-4f36-bfc9-e50bf67a3181"
      },
      "execution_count": 15,
      "outputs": [
        {
          "output_type": "stream",
          "name": "stdout",
          "text": [
            "[(4, 16), (13, 19), (18, 8), (22, 17)]\n"
          ]
        }
      ]
    },
    {
      "cell_type": "code",
      "source": [
        "skeleton_image = cv2.imread('skeleton_image.png', cv2.IMREAD_GRAYSCALE)\n",
        "output_image = cv2.cvtColor(skeleton_image, cv2.COLOR_GRAY2BGR)\n",
        "for point in endpoint_coords:\n",
        "    y, x = point\n",
        "    output_image[y, x] = (0, 0, 255)\n",
        "\n",
        "plt.imshow(cv2.cvtColor(output_image, cv2.COLOR_BGR2RGB))\n",
        "plt.axis('off')\n",
        "plt.show()"
      ],
      "metadata": {
        "colab": {
          "base_uri": "https://localhost:8080/",
          "height": 406
        },
        "id": "zdzBLn2_UuXi",
        "outputId": "a54b3629-41fe-40dd-ac59-c9a5ff8c6511"
      },
      "execution_count": 16,
      "outputs": [
        {
          "output_type": "display_data",
          "data": {
            "text/plain": [
              "<Figure size 640x480 with 1 Axes>"
            ],
            "image/png": "[encoded data removed]"
          },
          "metadata": {}
        }
      ]
    },
    {
      "cell_type": "code",
      "source": [
        "import cv2\n",
        "import numpy as np\n",
        "import itertools\n",
        "\n",
        "path = 'skeleton_image.png'\n",
        "img = cv2.imread(path, 0)\n",
        "\n",
        "(rows, cols) = np.nonzero(img)\n",
        "\n",
        "endpoint_coords = []\n",
        "\n",
        "for (r, c) in zip(rows, cols):\n",
        "    top = max(0, r - 1)\n",
        "    right = min(img.shape[1] - 1, c + 1)\n",
        "    bottom = min(img.shape[0] - 1, r + 1)\n",
        "    left = max(0, c - 1)\n",
        "\n",
        "    sub_img = img[top: bottom + 1, left: right + 1]\n",
        "    if np.sum(sub_img) >= 255*2 and np.sum(sub_img) <= 255*4:\n",
        "        endpoint_coords.append((r, c))\n",
        "\n",
        "print(endpoint_coords)"
      ],
      "metadata": {
        "colab": {
          "base_uri": "https://localhost:8080/"
        },
        "id": "bocWiRIlWJod",
        "outputId": "9223fc2f-05dc-4025-faa6-26daf729bf6b"
      },
      "execution_count": 21,
      "outputs": [
        {
          "output_type": "stream",
          "name": "stdout",
          "text": [
            "[(4, 16), (5, 15), (6, 15), (7, 15), (8, 15), (9, 13), (9, 15), (10, 12), (10, 15), (11, 12), (11, 15), (12, 12), (12, 15), (13, 19), (14, 11), (14, 12), (14, 13), (14, 14), (14, 17), (14, 18), (15, 10), (16, 9), (16, 16), (17, 9), (17, 16), (18, 8), (18, 16), (19, 16), (20, 16), (21, 17), (22, 17)]\n"
          ]
        }
      ]
    },
    {
      "cell_type": "code",
      "source": [
        "skeleton_image = cv2.imread('skeleton_image.png', cv2.IMREAD_GRAYSCALE)\n",
        "output_image = cv2.cvtColor(skeleton_image, cv2.COLOR_GRAY2BGR)\n",
        "for point in endpoint_coords:\n",
        "    y, x = point\n",
        "    output_image[y, x] = (255, 0, 0)\n",
        "\n",
        "plt.imshow(cv2.cvtColor(output_image, cv2.COLOR_BGR2RGB))\n",
        "plt.axis('off')\n",
        "plt.show()"
      ],
      "metadata": {
        "colab": {
          "base_uri": "https://localhost:8080/",
          "height": 406
        },
        "id": "jUBipQZ3WNc1",
        "outputId": "a537a7d9-352d-4471-9d4d-6b924d7a9277"
      },
      "execution_count": 22,
      "outputs": [
        {
          "output_type": "display_data",
          "data": {
            "text/plain": [
              "<Figure size 640x480 with 1 Axes>"
            ],
            "image/png": "[encoded data removed]"
          },
          "metadata": {}
        }
      ]
    },
    {
      "cell_type": "code",
      "source": [
        "min_distance = 0\n",
        "\n",
        "# Create a list to store the final selected points\n",
        "final_coords = []\n",
        "\n",
        "# Check if points are neighbors and remove some to ensure they are not neighbors\n",
        "for coord1, coord2 in itertools.combinations(endpoint_coords, 2):\n",
        "    dist = np.sqrt((coord1[0] - coord2[0])**2 + (coord1[1] - coord2[1])**2)\n",
        "    if dist >= min_distance:\n",
        "        final_coords.extend([coord1, coord2])\n",
        "\n",
        "print(final_coords)"
      ],
      "metadata": {
        "colab": {
          "base_uri": "https://localhost:8080/"
        },
        "id": "KYLug9w6W_Tr",
        "outputId": "2ecacb2a-ee7a-45ac-de8a-d2fad7a6de4c"
      },
      "execution_count": 25,
      "outputs": [
        {
          "output_type": "stream",
          "name": "stdout",
          "text": [
            "[(4, 16), (5, 15), (4, 16), (6, 15), (4, 16), (7, 15), (4, 16), (8, 15), (4, 16), (9, 13), (4, 16), (9, 15), (4, 16), (10, 12), (4, 16), (10, 15), (4, 16), (11, 12), (4, 16), (11, 15), (4, 16), (12, 12), (4, 16), (12, 15), (4, 16), (13, 19), (4, 16), (14, 11), (4, 16), (14, 12), (4, 16), (14, 13), (4, 16), (14, 14), (4, 16), (14, 17), (4, 16), (14, 18), (4, 16), (15, 10), (4, 16), (16, 9), (4, 16), (16, 16), (4, 16), (17, 9), (4, 16), (17, 16), (4, 16), (18, 8), (4, 16), (18, 16), (4, 16), (19, 16), (4, 16), (20, 16), (4, 16), (21, 17), (4, 16), (22, 17), (5, 15), (6, 15), (5, 15), (7, 15), (5, 15), (8, 15), (5, 15), (9, 13), (5, 15), (9, 15), (5, 15), (10, 12), (5, 15), (10, 15), (5, 15), (11, 12), (5, 15), (11, 15), (5, 15), (12, 12), (5, 15), (12, 15), (5, 15), (13, 19), (5, 15), (14, 11), (5, 15), (14, 12), (5, 15), (14, 13), (5, 15), (14, 14), (5, 15), (14, 17), (5, 15), (14, 18), (5, 15), (15, 10), (5, 15), (16, 9), (5, 15), (16, 16), (5, 15), (17, 9), (5, 15), (17, 16), (5, 15), (18, 8), (5, 15), (18, 16), (5, 15), (19, 16), (5, 15), (20, 16), (5, 15), (21, 17), (5, 15), (22, 17), (6, 15), (7, 15), (6, 15), (8, 15), (6, 15), (9, 13), (6, 15), (9, 15), (6, 15), (10, 12), (6, 15), (10, 15), (6, 15), (11, 12), (6, 15), (11, 15), (6, 15), (12, 12), (6, 15), (12, 15), (6, 15), (13, 19), (6, 15), (14, 11), (6, 15), (14, 12), (6, 15), (14, 13), (6, 15), (14, 14), (6, 15), (14, 17), (6, 15), (14, 18), (6, 15), (15, 10), (6, 15), (16, 9), (6, 15), (16, 16), (6, 15), (17, 9), (6, 15), (17, 16), (6, 15), (18, 8), (6, 15), (18, 16), (6, 15), (19, 16), (6, 15), (20, 16), (6, 15), (21, 17), (6, 15), (22, 17), (7, 15), (8, 15), (7, 15), (9, 13), (7, 15), (9, 15), (7, 15), (10, 12), (7, 15), (10, 15), (7, 15), (11, 12), (7, 15), (11, 15), (7, 15), (12, 12), (7, 15), (12, 15), (7, 15), (13, 19), (7, 15), (14, 11), (7, 15), (14, 12), (7, 15), (14, 13), (7, 15), (14, 14), (7, 15), (14, 17), (7, 15), (14, 18), (7, 15), (15, 10), (7, 15), (16, 9), (7, 15), (16, 16), (7, 15), (17, 9), (7, 15), (17, 16), (7, 15), (18, 8), (7, 15), (18, 16), (7, 15), (19, 16), (7, 15), (20, 16), (7, 15), (21, 17), (7, 15), (22, 17), (8, 15), (9, 13), (8, 15), (9, 15), (8, 15), (10, 12), (8, 15), (10, 15), (8, 15), (11, 12), (8, 15), (11, 15), (8, 15), (12, 12), (8, 15), (12, 15), (8, 15), (13, 19), (8, 15), (14, 11), (8, 15), (14, 12), (8, 15), (14, 13), (8, 15), (14, 14), (8, 15), (14, 17), (8, 15), (14, 18), (8, 15), (15, 10), (8, 15), (16, 9), (8, 15), (16, 16), (8, 15), (17, 9), (8, 15), (17, 16), (8, 15), (18, 8), (8, 15), (18, 16), (8, 15), (19, 16), (8, 15), (20, 16), (8, 15), (21, 17), (8, 15), (22, 17), (9, 13), (9, 15), (9, 13), (10, 12), (9, 13), (10, 15), (9, 13), (11, 12), (9, 13), (11, 15), (9, 13), (12, 12), (9, 13), (12, 15), (9, 13), (13, 19), (9, 13), (14, 11), (9, 13), (14, 12), (9, 13), (14, 13), (9, 13), (14, 14), (9, 13), (14, 17), (9, 13), (14, 18), (9, 13), (15, 10), (9, 13), (16, 9), (9, 13), (16, 16), (9, 13), (17, 9), (9, 13), (17, 16), (9, 13), (18, 8), (9, 13), (18, 16), (9, 13), (19, 16), (9, 13), (20, 16), (9, 13), (21, 17), (9, 13), (22, 17), (9, 15), (10, 12), (9, 15), (10, 15), (9, 15), (11, 12), (9, 15), (11, 15), (9, 15), (12, 12), (9, 15), (12, 15), (9, 15), (13, 19), (9, 15), (14, 11), (9, 15), (14, 12), (9, 15), (14, 13), (9, 15), (14, 14), (9, 15), (14, 17), (9, 15), (14, 18), (9, 15), (15, 10), (9, 15), (16, 9), (9, 15), (16, 16), (9, 15), (17, 9), (9, 15), (17, 16), (9, 15), (18, 8), (9, 15), (18, 16), (9, 15), (19, 16), (9, 15), (20, 16), (9, 15), (21, 17), (9, 15), (22, 17), (10, 12), (10, 15), (10, 12), (11, 12), (10, 12), (11, 15), (10, 12), (12, 12), (10, 12), (12, 15), (10, 12), (13, 19), (10, 12), (14, 11), (10, 12), (14, 12), (10, 12), (14, 13), (10, 12), (14, 14), (10, 12), (14, 17), (10, 12), (14, 18), (10, 12), (15, 10), (10, 12), (16, 9), (10, 12), (16, 16), (10, 12), (17, 9), (10, 12), (17, 16), (10, 12), (18, 8), (10, 12), (18, 16), (10, 12), (19, 16), (10, 12), (20, 16), (10, 12), (21, 17), (10, 12), (22, 17), (10, 15), (11, 12), (10, 15), (11, 15), (10, 15), (12, 12), (10, 15), (12, 15), (10, 15), (13, 19), (10, 15), (14, 11), (10, 15), (14, 12), (10, 15), (14, 13), (10, 15), (14, 14), (10, 15), (14, 17), (10, 15), (14, 18), (10, 15), (15, 10), (10, 15), (16, 9), (10, 15), (16, 16), (10, 15), (17, 9), (10, 15), (17, 16), (10, 15), (18, 8), (10, 15), (18, 16), (10, 15), (19, 16), (10, 15), (20, 16), (10, 15), (21, 17), (10, 15), (22, 17), (11, 12), (11, 15), (11, 12), (12, 12), (11, 12), (12, 15), (11, 12), (13, 19), (11, 12), (14, 11), (11, 12), (14, 12), (11, 12), (14, 13), (11, 12), (14, 14), (11, 12), (14, 17), (11, 12), (14, 18), (11, 12), (15, 10), (11, 12), (16, 9), (11, 12), (16, 16), (11, 12), (17, 9), (11, 12), (17, 16), (11, 12), (18, 8), (11, 12), (18, 16), (11, 12), (19, 16), (11, 12), (20, 16), (11, 12), (21, 17), (11, 12), (22, 17), (11, 15), (12, 12), (11, 15), (12, 15), (11, 15), (13, 19), (11, 15), (14, 11), (11, 15), (14, 12), (11, 15), (14, 13), (11, 15), (14, 14), (11, 15), (14, 17), (11, 15), (14, 18), (11, 15), (15, 10), (11, 15), (16, 9), (11, 15), (16, 16), (11, 15), (17, 9), (11, 15), (17, 16), (11, 15), (18, 8), (11, 15), (18, 16), (11, 15), (19, 16), (11, 15), (20, 16), (11, 15), (21, 17), (11, 15), (22, 17), (12, 12), (12, 15), (12, 12), (13, 19), (12, 12), (14, 11), (12, 12), (14, 12), (12, 12), (14, 13), (12, 12), (14, 14), (12, 12), (14, 17), (12, 12), (14, 18), (12, 12), (15, 10), (12, 12), (16, 9), (12, 12), (16, 16), (12, 12), (17, 9), (12, 12), (17, 16), (12, 12), (18, 8), (12, 12), (18, 16), (12, 12), (19, 16), (12, 12), (20, 16), (12, 12), (21, 17), (12, 12), (22, 17), (12, 15), (13, 19), (12, 15), (14, 11), (12, 15), (14, 12), (12, 15), (14, 13), (12, 15), (14, 14), (12, 15), (14, 17), (12, 15), (14, 18), (12, 15), (15, 10), (12, 15), (16, 9), (12, 15), (16, 16), (12, 15), (17, 9), (12, 15), (17, 16), (12, 15), (18, 8), (12, 15), (18, 16), (12, 15), (19, 16), (12, 15), (20, 16), (12, 15), (21, 17), (12, 15), (22, 17), (13, 19), (14, 11), (13, 19), (14, 12), (13, 19), (14, 13), (13, 19), (14, 14), (13, 19), (14, 17), (13, 19), (14, 18), (13, 19), (15, 10), (13, 19), (16, 9), (13, 19), (16, 16), (13, 19), (17, 9), (13, 19), (17, 16), (13, 19), (18, 8), (13, 19), (18, 16), (13, 19), (19, 16), (13, 19), (20, 16), (13, 19), (21, 17), (13, 19), (22, 17), (14, 11), (14, 12), (14, 11), (14, 13), (14, 11), (14, 14), (14, 11), (14, 17), (14, 11), (14, 18), (14, 11), (15, 10), (14, 11), (16, 9), (14, 11), (16, 16), (14, 11), (17, 9), (14, 11), (17, 16), (14, 11), (18, 8), (14, 11), (18, 16), (14, 11), (19, 16), (14, 11), (20, 16), (14, 11), (21, 17), (14, 11), (22, 17), (14, 12), (14, 13), (14, 12), (14, 14), (14, 12), (14, 17), (14, 12), (14, 18), (14, 12), (15, 10), (14, 12), (16, 9), (14, 12), (16, 16), (14, 12), (17, 9), (14, 12), (17, 16), (14, 12), (18, 8), (14, 12), (18, 16), (14, 12), (19, 16), (14, 12), (20, 16), (14, 12), (21, 17), (14, 12), (22, 17), (14, 13), (14, 14), (14, 13), (14, 17), (14, 13), (14, 18), (14, 13), (15, 10), (14, 13), (16, 9), (14, 13), (16, 16), (14, 13), (17, 9), (14, 13), (17, 16), (14, 13), (18, 8), (14, 13), (18, 16), (14, 13), (19, 16), (14, 13), (20, 16), (14, 13), (21, 17), (14, 13), (22, 17), (14, 14), (14, 17), (14, 14), (14, 18), (14, 14), (15, 10), (14, 14), (16, 9), (14, 14), (16, 16), (14, 14), (17, 9), (14, 14), (17, 16), (14, 14), (18, 8), (14, 14), (18, 16), (14, 14), (19, 16), (14, 14), (20, 16), (14, 14), (21, 17), (14, 14), (22, 17), (14, 17), (14, 18), (14, 17), (15, 10), (14, 17), (16, 9), (14, 17), (16, 16), (14, 17), (17, 9), (14, 17), (17, 16), (14, 17), (18, 8), (14, 17), (18, 16), (14, 17), (19, 16), (14, 17), (20, 16), (14, 17), (21, 17), (14, 17), (22, 17), (14, 18), (15, 10), (14, 18), (16, 9), (14, 18), (16, 16), (14, 18), (17, 9), (14, 18), (17, 16), (14, 18), (18, 8), (14, 18), (18, 16), (14, 18), (19, 16), (14, 18), (20, 16), (14, 18), (21, 17), (14, 18), (22, 17), (15, 10), (16, 9), (15, 10), (16, 16), (15, 10), (17, 9), (15, 10), (17, 16), (15, 10), (18, 8), (15, 10), (18, 16), (15, 10), (19, 16), (15, 10), (20, 16), (15, 10), (21, 17), (15, 10), (22, 17), (16, 9), (16, 16), (16, 9), (17, 9), (16, 9), (17, 16), (16, 9), (18, 8), (16, 9), (18, 16), (16, 9), (19, 16), (16, 9), (20, 16), (16, 9), (21, 17), (16, 9), (22, 17), (16, 16), (17, 9), (16, 16), (17, 16), (16, 16), (18, 8), (16, 16), (18, 16), (16, 16), (19, 16), (16, 16), (20, 16), (16, 16), (21, 17), (16, 16), (22, 17), (17, 9), (17, 16), (17, 9), (18, 8), (17, 9), (18, 16), (17, 9), (19, 16), (17, 9), (20, 16), (17, 9), (21, 17), (17, 9), (22, 17), (17, 16), (18, 8), (17, 16), (18, 16), (17, 16), (19, 16), (17, 16), (20, 16), (17, 16), (21, 17), (17, 16), (22, 17), (18, 8), (18, 16), (18, 8), (19, 16), (18, 8), (20, 16), (18, 8), (21, 17), (18, 8), (22, 17), (18, 16), (19, 16), (18, 16), (20, 16), (18, 16), (21, 17), (18, 16), (22, 17), (19, 16), (20, 16), (19, 16), (21, 17), (19, 16), (22, 17), (20, 16), (21, 17), (20, 16), (22, 17), (21, 17), (22, 17)]\n"
          ]
        }
      ]
    },
    {
      "cell_type": "code",
      "source": [
        "skeleton_image = cv2.imread('skeleton_image.png', cv2.IMREAD_GRAYSCALE)\n",
        "output_image = cv2.cvtColor(skeleton_image, cv2.COLOR_GRAY2BGR)\n",
        "for point in final_coords:\n",
        "    y, x = point\n",
        "    output_image[y, x] = (255, 0, 0)\n",
        "\n",
        "plt.imshow(cv2.cvtColor(output_image, cv2.COLOR_BGR2RGB))\n",
        "plt.axis('off')\n",
        "plt.show()"
      ],
      "metadata": {
        "colab": {
          "base_uri": "https://localhost:8080/",
          "height": 406
        },
        "id": "iVpm9jSOXL7o",
        "outputId": "61e07aef-84e8-4329-9d53-e0b350926719"
      },
      "execution_count": 26,
      "outputs": [
        {
          "output_type": "display_data",
          "data": {
            "text/plain": [
              "<Figure size 640x480 with 1 Axes>"
            ],
            "image/png": "[encoded data removed]"
          },
          "metadata": {}
        }
      ]
    }
  ]
}