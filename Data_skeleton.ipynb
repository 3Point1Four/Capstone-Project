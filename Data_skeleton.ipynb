{
  "cells": [
    {
      "cell_type": "code",
      "execution_count": 5,
      "metadata": {
        "colab": {
          "base_uri": "https://localhost:8080/",
          "height": 150
        },
        "id": "W6Cs3_uePBUj",
        "outputId": "f1c6a241-c29a-46fd-accb-1c5e024529d8"
      },
      "outputs": [
        {
          "data": {
            "image/png": "[encoded data removed]",
            "text/plain": [
              "<Figure size 100x100 with 1 Axes>"
            ]
          },
          "metadata": {},
          "output_type": "display_data"
        }
      ],
      "source": [
        "import matplotlib.pyplot as plt\n",
        "from skimage import io, color, transform\n",
        "from skimage.filters import threshold_otsu\n",
        "from skimage.morphology import skeletonize\n",
        "import numpy as np\n",
        "\n",
        "# Read the image\n",
        "image_path = 'C:\\\\Users\\Dell\\\\Desktop\\\\A-0.png'  # Replace with the path to your image\n",
        "image = io.imread(image_path)\n",
        "\n",
        "# Convert the image to grayscale if it's a color image\n",
        "if image.ndim == 3:\n",
        "    image = color.rgb2gray(image)\n",
        "\n",
        "# Threshold the image to create a binary image\n",
        "threshold_value = threshold_otsu(image)\n",
        "binary_image = image > threshold_value\n",
        "\n",
        "# Use the skeletonize function to compute the skeleton\n",
        "skeleton = skeletonize(binary_image)\n",
        "\n",
        "# Resize the images to 28x28 pixels\n",
        "image = transform.resize(image, (28, 28))\n",
        "skeleton = transform.resize(skeleton, (28, 28))\n",
        "\n",
        "# Create a figure with a specific size\n",
        "plt.figure(figsize=(1, 1))\n",
        "\n",
        "# Display the skeletonized image\n",
        "plt.imshow(skeleton, cmap=plt.cm.gray)\n",
        "plt.axis('off')\n",
        "plt.subplots_adjust(left=0, right=1, top=1, bottom=0)  # Remove white space around the image\n",
        "plt.savefig('testop.png', format='png', dpi=28)  # Save the 28x28 image\n"
      ]
    }
  ],
  "metadata": {
    "colab": {
      "provenance": []
    },
    "kernelspec": {
      "display_name": "Python 3",
      "language": "python",
      "name": "python3"
    },
    "language_info": {
      "codemirror_mode": {
        "name": "ipython",
        "version": 3
      },
      "file_extension": ".py",
      "mimetype": "text/x-python",
      "name": "python",
      "nbconvert_exporter": "python",
      "pygments_lexer": "ipython3",
      "version": "3.11.5"
    }
  },
  "nbformat": 4,
  "nbformat_minor": 0
}
