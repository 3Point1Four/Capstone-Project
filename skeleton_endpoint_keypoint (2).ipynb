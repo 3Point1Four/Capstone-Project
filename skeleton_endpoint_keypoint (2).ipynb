{
  "nbformat": 4,
  "nbformat_minor": 0,
  "metadata": {
    "colab": {
      "provenance": []
    },
    "kernelspec": {
      "name": "python3",
      "display_name": "Python 3"
    },
    "language_info": {
      "name": "python"
    }
  },
  "cells": [
    {
      "cell_type": "code",
      "source": [
        "import matplotlib.pyplot as plt\n",
        "from skimage import io, color, transform\n",
        "from skimage.filters import threshold_otsu\n",
        "from skimage.morphology import skeletonize\n",
        "import numpy as np\n",
        "import cv2"
      ],
      "metadata": {
        "id": "kzgysQ5JRzeC"
      },
      "execution_count": null,
      "outputs": []
    },
    {
      "cell_type": "code",
      "source": [
        "image_path = 'A-0.png'\n",
        "image = io.imread(image_path)\n",
        "\n",
        "if image.ndim == 3:\n",
        "    image = color.rgb2gray(image)\n",
        "\n",
        "threshold_value = threshold_otsu(image)\n",
        "binary_image = image > threshold_value\n",
        "\n",
        "skeleton = skeletonize(binary_image)\n",
        "\n",
        "image = transform.resize(image, (28, 28))\n",
        "skeleton = transform.resize(skeleton, (28, 28))\n",
        "\n",
        "plt.figure(figsize=(1, 1))\n",
        "\n",
        "plt.imshow(skeleton, cmap=plt.cm.gray)\n",
        "plt.axis('off')\n",
        "plt.subplots_adjust(left=0, right=1, top=1, bottom=0)\n",
        "plt.savefig('skeleton_image.png', format='png', dpi=28)"
      ],
      "metadata": {
        "colab": {
          "base_uri": "https://localhost:8080/",
          "height": 137
        },
        "id": "9JrFi9cqR65h",
        "outputId": "c89c6a18-8d84-4a41-a872-6a563e9fca10"
      },
      "execution_count": null,
      "outputs": [
        {
          "output_type": "display_data",
          "data": {
            "text/plain": [
              "<Figure size 100x100 with 1 Axes>"
            ],
            "image/png": "[encoded data removed]"
          },
          "metadata": {}
        }
      ]
    },
    {
      "cell_type": "code",
      "source": [
        "import cv2\n",
        "import numpy as np\n",
        "\n",
        "path = 'skeleton_image.png'\n",
        "img = cv2.imread(path, 0)\n",
        "\n",
        "(rows, cols) = np.nonzero(img)\n",
        "\n",
        "endpoint_coords = []\n",
        "\n",
        "for (r, c) in zip(rows, cols):\n",
        "    top = max(0, r - 1)\n",
        "    right = min(img.shape[1] - 1, c + 1)\n",
        "    bottom = min(img.shape[0] - 1, r + 1)\n",
        "    left = max(0, c - 1)\n",
        "\n",
        "    sub_img = img[top: bottom + 1, left: right + 1]\n",
        "    if np.sum(sub_img) == 255*2:\n",
        "        endpoint_coords.append((r,c))\n",
        "\n",
        "print(endpoint_coords)"
      ],
      "metadata": {
        "colab": {
          "base_uri": "https://localhost:8080/"
        },
        "id": "XCA5RAfEUf_Q",
        "outputId": "c3b55221-2023-411b-f5ca-71e0c373b568"
      },
      "execution_count": null,
      "outputs": [
        {
          "output_type": "stream",
          "name": "stdout",
          "text": [
            "[(4, 16), (13, 19), (18, 8), (22, 17)]\n"
          ]
        }
      ]
    },
    {
      "cell_type": "code",
      "source": [
        "skeleton_image = cv2.imread('skeleton_image.png', cv2.IMREAD_GRAYSCALE)\n",
        "output_image = cv2.cvtColor(skeleton_image, cv2.COLOR_GRAY2BGR)\n",
        "for point in endpoint_coords:\n",
        "    y, x = point\n",
        "    output_image[y, x] = (0, 0, 255)\n",
        "\n",
        "plt.imshow(cv2.cvtColor(output_image, cv2.COLOR_BGR2RGB))\n",
        "plt.axis('off')\n",
        "plt.show()"
      ],
      "metadata": {
        "colab": {
          "base_uri": "https://localhost:8080/",
          "height": 406
        },
        "id": "zdzBLn2_UuXi",
        "outputId": "21861823-f510-4c19-b1cc-2164826d907e"
      },
      "execution_count": null,
      "outputs": [
        {
          "output_type": "display_data",
          "data": {
            "text/plain": [
              "<Figure size 640x480 with 1 Axes>"
            ],
            "image/png": "[encoded data removed]"
          },
          "metadata": {}
        }
      ]
    },
    {
      "cell_type": "code",
      "source": [
        "import cv2\n",
        "import numpy as np\n",
        "import matplotlib.pyplot as plt\n",
        "\n",
        "# Load the black and white image\n",
        "image = cv2.imread('skeleton_image.png', cv2.IMREAD_GRAYSCALE)\n",
        "\n",
        "# Initialize the green and blue point arrays\n",
        "green_points = []\n",
        "blue_points = []\n",
        "\n",
        "# Iterate through the image to find key points\n",
        "for y in range(1, image.shape[0] - 1):\n",
        "    for x in range(1, image.shape[1] - 1):\n",
        "        if image[y, x] == 255:  # Check if the pixel is white\n",
        "            surrounding_pixels = [\n",
        "                image[y - 1, x], image[y + 1, x], image[y, x - 1], image[y, x + 1]\n",
        "            ]\n",
        "\n",
        "            # Check for green points (surrounded by 4 black pixels)\n",
        "            if surrounding_pixels.count(0) == 4:\n",
        "                green_points.append((x, y))\n",
        "\n",
        "            # Check for blue points (surrounded by exactly 3 black pixels)\n",
        "            elif surrounding_pixels.count(0) == 3 and surrounding_pixels.count(255) == 1:\n",
        "                blue_points.append((x, y))\n",
        "\n",
        "# Print the green and blue point arrays to the terminal\n",
        "print(\"Green Points:\", green_points)\n",
        "print(\"Blue Points:\", blue_points)\n",
        "\n",
        "# Create a color image with the original image\n",
        "color_image = cv2.cvtColor(image, cv2.COLOR_GRAY2BGR)\n",
        "\n",
        "# Overlay green and blue points on the color image\n",
        "for x, y in green_points:\n",
        "    color_image[y, x] = [0, 255, 0]  # Set the pixel to green\n",
        "for x, y in blue_points:\n",
        "    color_image[y, x] = [255, 0, 0]  # Set the pixel to blue\n",
        "\n",
        "# Display the color image with key points and text\n",
        "plt.imshow(cv2.cvtColor(color_image, cv2.COLOR_BGR2RGB))\n",
        "plt.title('Original Image with Key Points')\n",
        "plt.show()\n",
        "\n",
        "# Save the green and blue images\n",
        "green_image = np.zeros_like(image)\n",
        "blue_image = np.zeros_like(image)\n",
        "\n",
        "for x, y in green_points:\n",
        "    green_image[y, x] = 255\n",
        "\n",
        "for x, y in blue_points:\n",
        "    blue_image[y, x] = 255\n",
        "\n",
        "cv2.imwrite('green_points.png', green_image)\n",
        "cv2.imwrite('blue_points.png', blue_image)\n"
      ],
      "metadata": {
        "colab": {
          "base_uri": "https://localhost:8080/",
          "height": 507
        },
        "id": "RbBVfVGUeNpY",
        "outputId": "f42b60ae-0d9c-4850-cb4c-3257a417b8e9"
      },
      "execution_count": null,
      "outputs": [
        {
          "output_type": "stream",
          "name": "stdout",
          "text": [
            "Green Points: [(16, 4), (19, 13), (10, 15), (8, 18)]\n",
            "Blue Points: [(15, 5), (13, 9), (12, 10), (11, 14), (18, 14), (9, 16), (9, 17), (16, 20), (17, 21), (17, 22)]\n"
          ]
        },
        {
          "output_type": "display_data",
          "data": {
            "text/plain": [
              "<Figure size 640x480 with 1 Axes>"
            ],
            "image/png": "[encoded data removed]"
          },
          "metadata": {}
        },
        {
          "output_type": "execute_result",
          "data": {
            "text/plain": [
              "True"
            ]
          },
          "metadata": {},
          "execution_count": 21
        }
      ]
    },
    {
      "cell_type": "code",
      "source": [
        "import cv2\n",
        "import numpy as np\n",
        "import matplotlib.pyplot as plt\n",
        "\n",
        "# Load the black and white image\n",
        "image = cv2.imread('skeleton_image.png', cv2.IMREAD_GRAYSCALE)\n",
        "\n",
        "# Apply skeletonization to the image\n",
        "skeleton = cv2.ximgproc.thinning(image, thinningType=cv2.ximgproc.THINNING_ZHANGSUEN)\n",
        "\n",
        "# Initialize the yellow point array for branching points\n",
        "yellow_points = []\n",
        "\n",
        "# Iterate through the skeletonized image to find branching points\n",
        "for y in range(1, skeleton.shape[0] - 1):\n",
        "    for x in range(1, skeleton.shape[1] - 1):\n",
        "        if skeleton[y, x] == 255:  # Check if the pixel is part of the skeleton\n",
        "            surrounding_pixels = [\n",
        "                skeleton[y - 1, x - 1], skeleton[y - 1, x], skeleton[y - 1, x + 1],\n",
        "                skeleton[y, x - 1], skeleton[y, x + 1],\n",
        "                skeleton[y + 1, x - 1], skeleton[y + 1, x], skeleton[y + 1, x + 1]\n",
        "            ]\n",
        "\n",
        "            # Check for branching points in the skeleton\n",
        "            if surrounding_pixels.count(255) >= 3:\n",
        "                yellow_points.append((x, y))\n",
        "\n",
        "# Create a color image with the original image\n",
        "color_image = cv2.cvtColor(image, cv2.COLOR_GRAY2BGR)\n",
        "\n",
        "# Overlay yellow points on the color image\n",
        "for x, y in yellow_points:\n",
        "    color_image[y, x] = [0, 255, 255]  # Set the pixel to yellow\n",
        "\n",
        "# Display the color image with branching points\n",
        "plt.imshow(cv2.cvtColor(color_image, cv2.COLOR_BGR2RGB))\n",
        "plt.title('Original Image with Yellow Branching Points (Skeletonization)')\n",
        "plt.show()\n",
        "\n",
        "# Print the yellow point array to the terminal\n",
        "print(\"Yellow Branching Points (Skeletonization):\", yellow_points)\n"
      ],
      "metadata": {
        "colab": {
          "base_uri": "https://localhost:8080/",
          "height": 490
        },
        "id": "vto-reWUiQC8",
        "outputId": "2647ad3c-8be0-4b1f-8fab-4c873e6fd9bd"
      },
      "execution_count": null,
      "outputs": [
        {
          "output_type": "display_data",
          "data": {
            "text/plain": [
              "<Figure size 640x480 with 1 Axes>"
            ],
            "image/png": "[encoded data removed]"
          },
          "metadata": {}
        },
        {
          "output_type": "stream",
          "name": "stdout",
          "text": [
            "Yellow Branching Points (Skeletonization): [(15, 8), (14, 9), (15, 9), (15, 10), (12, 13), (15, 13), (11, 14), (12, 14), (13, 14), (14, 14), (15, 14), (16, 14), (17, 14), (16, 15)]\n"
          ]
        }
      ]
    },
    {
      "cell_type": "code",
      "source": [
        "import cv2\n",
        "import numpy as np\n",
        "import matplotlib.pyplot as plt\n",
        "\n",
        "# Load the black and white image\n",
        "image = cv2.imread('skeleton_image.png', cv2.IMREAD_GRAYSCALE)\n",
        "\n",
        "# Apply skeletonization to the image\n",
        "skeleton = cv2.ximgproc.thinning(image, thinningType=cv2.ximgproc.THINNING_ZHANGSUEN)\n",
        "\n",
        "# Find branch endpoints using morphological operations\n",
        "branch_points = cv2.bitwise_and(skeleton, cv2.bitwise_not(cv2.dilate(skeleton, np.ones((3, 3)))))\n",
        "\n",
        "# Create a color image with the original image\n",
        "color_image = cv2.cvtColor(image, cv2.COLOR_GRAY2BGR)\n",
        "\n",
        "# Initialize a dictionary to store centerpoints and their connected offshoots\n",
        "centerpoints = {}\n",
        "\n",
        "# Iterate through the branch endpoints\n",
        "for y in range(1, branch_points.shape[0] - 1):\n",
        "    for x in range(1, branch_points.shape[1] - 1):\n",
        "        if branch_points[y, x] == 255:  # Check if the pixel is a branch endpoint\n",
        "            surrounding_pixels = [\n",
        "                branch_points[y - 1, x - 1], branch_points[y - 1, x], branch_points[y - 1, x + 1],\n",
        "                branch_points[y, x - 1], branch_points[y, x + 1],\n",
        "                branch_points[y + 1, x - 1], branch_points[y + 1, x], branch_points[y + 1, x + 1]\n",
        "            ]\n",
        "\n",
        "            # Count the number of offshoots connected to the endpoint\n",
        "            num_offshoots = surrounding_pixels.count(255)\n",
        "\n",
        "            # Add the centerpoint and its offshoot count to the dictionary\n",
        "            centerpoints[(x, y)] = num_offshoots\n",
        "\n",
        "# Overlay centerpoints on the color image\n",
        "for (x, y), num_offshoots in centerpoints.items():\n",
        "    color_image[y, x] = [0, 255, 255]  # Set the pixel to yellow\n",
        "    cv2.putText(color_image, str(num_offshoots), (x, y), cv2.FONT_HERSHEY_SIMPLEX, 0.5, (255, 255, 255), 2)\n",
        "\n",
        "# Display the color image with centerpoints and offshoot counts\n",
        "plt.imshow(cv2.cvtColor(color_image, cv2.COLOR_BGR2RGB))\n",
        "plt.title('Original Image with Centerpoints of Branches and Offshoot Counts')\n",
        "plt.show()\n",
        "\n",
        "# Print the centerpoints and their connected offshoot counts to the terminal\n",
        "print(\"Centerpoints of Branches and Offshoot Counts:\", centerpoints)\n"
      ],
      "metadata": {
        "colab": {
          "base_uri": "https://localhost:8080/",
          "height": 470
        },
        "id": "5Z8zty19jfl1",
        "outputId": "4d05b262-7c57-4e72-9d50-9b1b257212f2"
      },
      "execution_count": null,
      "outputs": [
        {
          "output_type": "display_data",
          "data": {
            "text/plain": [
              "<Figure size 640x480 with 1 Axes>"
            ],
            "image/png": "[encoded data removed]"
          },
          "metadata": {}
        },
        {
          "output_type": "stream",
          "name": "stdout",
          "text": [
            "Centerpoints of Branches and Offshoot Counts: {}\n"
          ]
        }
      ]
    }
  ]
}