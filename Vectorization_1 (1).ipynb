{
  "nbformat": 4,
  "nbformat_minor": 0,
  "metadata": {
    "colab": {
      "provenance": []
    },
    "kernelspec": {
      "name": "python3",
      "display_name": "Python 3"
    },
    "language_info": {
      "name": "python"
    }
  },
  "cells": [
    {
      "cell_type": "code",
      "execution_count": null,
      "metadata": {
        "colab": {
          "base_uri": "https://localhost:8080/",
          "height": 155
        },
        "id": "2fDBmFzP8_H3",
        "outputId": "78272d42-8331-4a68-c77e-25b0d6463c5d"
      },
      "outputs": [
        {
          "output_type": "stream",
          "name": "stdout",
          "text": [
            "[(4, 16), (13, 19), (18, 8), (22, 17)]\n"
          ]
        },
        {
          "output_type": "display_data",
          "data": {
            "text/plain": [
              "<Figure size 100x100 with 1 Axes>"
            ],
            "image/png": "[encoded data removed]"
          },
          "metadata": {}
        }
      ],
      "source": [
        "import matplotlib.pyplot as plt\n",
        "from skimage import io, color, transform\n",
        "from skimage.filters import threshold_otsu\n",
        "from skimage.morphology import skeletonize\n",
        "import numpy as np\n",
        "import cv2\n",
        "\n",
        "\n",
        "image_path = '/content/A-0.png'\n",
        "image = io.imread(image_path)\n",
        "\n",
        "if image.ndim == 3:\n",
        "    image = color.rgb2gray(image)\n",
        "\n",
        "threshold_value = threshold_otsu(image)\n",
        "binary_image = image > threshold_value\n",
        "\n",
        "skeleton = skeletonize(binary_image)\n",
        "\n",
        "image = transform.resize(image, (28, 28))\n",
        "skeleton = transform.resize(skeleton, (28, 28))\n",
        "\n",
        "plt.figure(figsize=(1, 1))\n",
        "\n",
        "plt.imshow(skeleton, cmap=plt.cm.gray)\n",
        "plt.axis('off')\n",
        "plt.subplots_adjust(left=0, right=1, top=1, bottom=0)\n",
        "plt.savefig('skeleton_image.png', format='png', dpi=28)\n",
        "\n",
        "\n",
        "path = 'skeleton_image.png'\n",
        "img = cv2.imread(path, 0)\n",
        "\n",
        "(rows, cols) = np.nonzero(img)\n",
        "\n",
        "endpoint_coords = []\n",
        "\n",
        "for (r, c) in zip(rows, cols):\n",
        "    top = max(0, r - 1)\n",
        "    right = min(img.shape[1] - 1, c + 1)\n",
        "    bottom = min(img.shape[0] - 1, r + 1)\n",
        "    left = max(0, c - 1)\n",
        "\n",
        "    sub_img = img[top: bottom + 1, left: right + 1]\n",
        "    if np.sum(sub_img) == 255*2:\n",
        "        endpoint_coords.append((r,c))\n",
        "\n",
        "print(endpoint_coords)\n",
        "\n",
        "\n",
        "skeleton_image = cv2.imread('skeleton_image.png', cv2.IMREAD_GRAYSCALE)\n",
        "output_image = cv2.cvtColor(skeleton_image, cv2.COLOR_GRAY2BGR)\n",
        "for point in endpoint_coords:\n",
        "    y, x = point\n",
        "    output_image[y, x] = (0, 0, 255)\n",
        "\n",
        "plt.imshow(cv2.cvtColor(output_image, cv2.COLOR_BGR2RGB))\n",
        "plt.axis('off')\n",
        "plt.show()"
      ]
    },
    {
      "cell_type": "code",
      "source": [
        "import matplotlib.pyplot as plt\n",
        "from skimage import io, color, transform\n",
        "from skimage.filters import threshold_otsu\n",
        "from skimage.morphology import skeletonize\n",
        "import numpy as np\n",
        "import cv2\n",
        "\n",
        "def is_neighbor(point, other_points, distance=1):\n",
        "    for other_point in other_points:\n",
        "        if abs(point[0] - other_point[0]) <= distance and abs(point[1] - other_point[1]) <= distance:\n",
        "            return True\n",
        "    return False\n",
        "\n",
        "def find_keypoints(img, endpoints):\n",
        "    keypoint_coords = []\n",
        "    for r in range(1, img.shape[0] - 1):\n",
        "        for c in range(1, img.shape[1] - 1):\n",
        "            if (r, c) not in endpoints and not is_neighbor((r, c), keypoint_coords):\n",
        "                sub_img = img[r-1:r+2, c-1:c+2]\n",
        "                white_pixel_count = np.sum(sub_img == 255)\n",
        "                if white_pixel_count >= 3:\n",
        "                    keypoint_coords.append((r, c))\n",
        "    return keypoint_coords\n",
        "\n",
        "image_path = 'A-0.png'\n",
        "image = io.imread(image_path)\n",
        "\n",
        "if image.ndim == 3:\n",
        "    image = color.rgb2gray(image)\n",
        "\n",
        "threshold_value = threshold_otsu(image)\n",
        "binary_image = image > threshold_value\n",
        "\n",
        "skeleton = skeletonize(binary_image)\n",
        "\n",
        "image = transform.resize(image, (28, 28))\n",
        "skeleton = transform.resize(skeleton, (28, 28))\n",
        "\n",
        "plt.figure(figsize=(1, 1))\n",
        "\n",
        "plt.imshow(skeleton, cmap=plt.cm.gray)\n",
        "plt.axis('off')\n",
        "plt.subplots_adjust(left=0, right=1, top=1, bottom=0)\n",
        "plt.savefig('skeleton_image.png', format='png', dpi=28)\n",
        "\n",
        "path = 'skeleton_image.png'\n",
        "img = cv2.imread(path, 0)\n",
        "\n",
        "(rows, cols) = np.nonzero(img)\n",
        "endpoint_coords = []\n",
        "\n",
        "for (r, c) in zip(rows, cols):\n",
        "    top = max(0, r - 1)\n",
        "    right = min(img.shape[1] - 1, c + 1)\n",
        "    bottom = min(img.shape[0] - 1, r + 1)\n",
        "    left = max(0, c - 1)\n",
        "    sub_img = img[top: bottom + 1, left: right + 1]\n",
        "    if np.sum(sub_img) == 255 * 2:\n",
        "        endpoint_coords.append((r, c))\n",
        "\n",
        "keypoint_coords = find_keypoints(img, endpoint_coords)\n",
        "\n",
        "skeleton_image = cv2.imread('skeleton_image.png', cv2.IMREAD_GRAYSCALE)\n",
        "output_image = cv2.cvtColor(skeleton_image, cv2.COLOR_GRAY2BGR)\n",
        "\n",
        "for point in endpoint_coords:\n",
        "    y, x = point\n",
        "    output_image[y, x] = (0, 0, 255)\n",
        "\n",
        "for point in keypoint_coords:\n",
        "    y, x = point\n",
        "    output_image[y, x] = (255, 0, 0)\n",
        "\n",
        "plt.imshow(cv2.cvtColor(output_image, cv2.COLOR_BGR2RGB))\n",
        "plt.axis('off')\n",
        "plt.show()\n",
        "\n",
        "print(\"Endpoint Coordinates:\", endpoint_coords)\n",
        "print(\"Keypoint Coordinates:\", keypoint_coords)\n"
      ],
      "metadata": {
        "colab": {
          "base_uri": "https://localhost:8080/",
          "height": 193
        },
        "id": "hGmNt88C_vP-",
        "outputId": "6a1b48c8-3848-4079-cd6c-05e1ee848d16"
      },
      "execution_count": null,
      "outputs": [
        {
          "output_type": "display_data",
          "data": {
            "text/plain": [
              "<Figure size 100x100 with 1 Axes>"
            ],
            "image/png": "[encoded data removed]"
          },
          "metadata": {}
        },
        {
          "output_type": "stream",
          "name": "stdout",
          "text": [
            "Endpoint Coordinates: [(4, 16), (13, 19), (18, 8), (22, 17)]\n",
            "Keypoint Coordinates: [(5, 15), (7, 14), (7, 16), (9, 13), (9, 15), (11, 11), (11, 13), (11, 15), (13, 11), (13, 13), (13, 15), (13, 17), (15, 10), (15, 12), (15, 14), (15, 16), (17, 8), (17, 15), (17, 17), (19, 15), (19, 17), (21, 16)]\n"
          ]
        }
      ]
    },
    {
      "cell_type": "code",
      "source": [
        "import matplotlib.pyplot as plt\n",
        "from skimage import io, color, transform\n",
        "from skimage.filters import threshold_otsu\n",
        "from skimage.morphology import skeletonize\n",
        "import numpy as np\n",
        "import cv2\n",
        "\n",
        "def is_neighbor(point, other_points, distance=1):\n",
        "    for other_point in other_points:\n",
        "        if abs(point[0] - other_point[0]) <= distance and abs(point[1] - other_point[1]) <= distance:\n",
        "            return True\n",
        "    return False\n",
        "\n",
        "def find_keypoints(img, endpoints):\n",
        "    keypoint_coords = []\n",
        "    for r in range(1, img.shape[0] - 1):\n",
        "        for c in range(1, img.shape[1] - 1):\n",
        "            if (r, c) not in endpoints and not is_neighbor((r, c), keypoint_coords):\n",
        "                sub_img = img[r-1:r+2, c-1:c+2]\n",
        "                white_pixel_count = np.sum(sub_img == 255)\n",
        "                if white_pixel_count >= 3:\n",
        "                    keypoint_coords.append((r, c))\n",
        "    return keypoint_coords\n",
        "\n",
        "def display_vectors(endpoint_coords, keypoint_coords):\n",
        "    plt.figure(figsize=(1, 1))\n",
        "\n",
        "    plt.imshow(skeleton, cmap=plt.cm.gray)\n",
        "    plt.axis('off')\n",
        "    plt.subplots_adjust(left=0, right=1, top=1, bottom=0)\n",
        "\n",
        "    for endpoint, keypoint in zip(endpoint_coords, keypoint_coords):\n",
        "        ey, ex = endpoint\n",
        "        ky, kx = keypoint\n",
        "        plt.quiver(ex, ey, kx - ex, ky - ey, angles='xy', scale_units='xy', scale=1, color='green')\n",
        "\n",
        "    plt.show()\n",
        "\n",
        "image_path = 'A-0.png'\n",
        "image = io.imread(image_path)\n",
        "\n",
        "if image.ndim == 3:\n",
        "    image = color.rgb2gray(image)\n",
        "\n",
        "threshold_value = threshold_otsu(image)\n",
        "binary_image = image > threshold_value\n",
        "\n",
        "skeleton = skeletonize(binary_image)\n",
        "\n",
        "image = transform.resize(image, (28, 28))\n",
        "skeleton = transform.resize(skeleton, (28, 28))\n",
        "\n",
        "path = 'skeleton_image.png'\n",
        "img = cv2.imread(path, 0)\n",
        "\n",
        "(rows, cols) = np.nonzero(img)\n",
        "endpoint_coords = []\n",
        "keypoint_coords = []\n",
        "\n",
        "for (r, c) in zip(rows, cols):\n",
        "    if img[r, c] == 255:\n",
        "        top = max(0, r - 1)\n",
        "        right = min(img.shape[1] - 1, c + 1)\n",
        "        bottom = min(img.shape[0] - 1, r + 1)\n",
        "        left = max(0, c - 1)\n",
        "        sub_img = img[top: bottom + 1, left: right + 1]\n",
        "        if np.sum(sub_img) == 255 * 2:\n",
        "            endpoint_coords.append((r, c))\n",
        "\n",
        "keypoint_coords = find_keypoints(img, endpoint_coords)\n",
        "\n",
        "display_vectors(endpoint_coords, keypoint_coords)\n",
        "\n",
        "print(\"Endpoint Coordinates:\", endpoint_coords)\n",
        "print(\"Keypoint Coordinates:\", keypoint_coords)\n"
      ],
      "metadata": {
        "colab": {
          "base_uri": "https://localhost:8080/",
          "height": 193
        },
        "id": "5BWLVmd1rZ0c",
        "outputId": "d1e5f67c-ca19-4bd5-8c56-742b657bf8d8"
      },
      "execution_count": null,
      "outputs": [
        {
          "output_type": "display_data",
          "data": {
            "text/plain": [
              "<Figure size 100x100 with 1 Axes>"
            ],
            "image/png": "[encoded data removed]"
          },
          "metadata": {}
        },
        {
          "output_type": "stream",
          "name": "stdout",
          "text": [
            "Endpoint Coordinates: [(4, 16), (13, 19), (18, 8), (22, 17)]\n",
            "Keypoint Coordinates: [(5, 15), (7, 14), (7, 16), (9, 13), (9, 15), (11, 11), (11, 13), (11, 15), (13, 11), (13, 13), (13, 15), (13, 17), (15, 10), (15, 12), (15, 14), (15, 16), (17, 8), (17, 15), (17, 17), (19, 15), (19, 17), (21, 16)]\n"
          ]
        }
      ]
    },
    {
      "cell_type": "code",
      "source": [
        "pip install svgwrite"
      ],
      "metadata": {
        "colab": {
          "base_uri": "https://localhost:8080/"
        },
        "id": "DifhozYt3yS8",
        "outputId": "4742f41e-4795-435d-8d96-c954e280aa2c"
      },
      "execution_count": null,
      "outputs": [
        {
          "output_type": "stream",
          "name": "stdout",
          "text": [
            "Collecting svgwrite\n",
            "  Downloading svgwrite-1.4.3-py3-none-any.whl (67 kB)\n",
            "\u001b[?25l     \u001b[90m━━━━━━━━━━━━━━━━━━━━━━━━━━━━━━━━━━━━━━━━\u001b[0m \u001b[32m0.0/67.1 kB\u001b[0m \u001b[31m?\u001b[0m eta \u001b[36m-:--:--\u001b[0m\r\u001b[2K     \u001b[90m━━━━━━━━━━━━━━━━━━━━━━━━━━━━━━━━━━━━━━━━\u001b[0m \u001b[32m67.1/67.1 kB\u001b[0m \u001b[31m1.9 MB/s\u001b[0m eta \u001b[36m0:00:00\u001b[0m\n",
            "\u001b[?25hInstalling collected packages: svgwrite\n",
            "Successfully installed svgwrite-1.4.3\n"
          ]
        }
      ]
    },
    {
      "cell_type": "code",
      "source": [
        "from svgwrite import Drawing"
      ],
      "metadata": {
        "id": "t9JWxVyB3fSK"
      },
      "execution_count": null,
      "outputs": []
    },
    {
      "cell_type": "code",
      "source": [
        "svg_width = 500  # Specify the width of the SVG canvas\n",
        "svg_height = 500  # Specify the height of the SVG canvas\n",
        "\n",
        "dwg = Drawing(\"output.svg\", (svg_width, svg_height))\n"
      ],
      "metadata": {
        "id": "sQOpLFg83jJy"
      },
      "execution_count": null,
      "outputs": []
    },
    {
      "cell_type": "code",
      "source": [
        "vectors = [(100, 100), (200, 100), (200, 200), (100, 200)]  # Example list of vectors\n",
        "\n",
        "path_data = \"M{0} {1} \".format(vectors[0][0], vectors[0][1])  # Move to the first point\n",
        "\n",
        "for vector in vectors[1:]:\n",
        "    path_data += \"L{0} {1} \".format(vector[0], vector[1])  # Line to the next point\n",
        "\n",
        "path_data += \"Z\"  # Close the path (optional, to create a closed shape)\n",
        "\n",
        "# Create the SVG path element and set its attributes\n",
        "dwg.add(dwg.path(d=path_data, fill=\"none\", stroke=\"black\"))\n"
      ],
      "metadata": {
        "colab": {
          "base_uri": "https://localhost:8080/",
          "height": 17
        },
        "id": "8PZDlyBv3k2p",
        "outputId": "8c3092ff-aff5-47e8-875b-1ab091a26e76"
      },
      "execution_count": null,
      "outputs": [
        {
          "output_type": "execute_result",
          "data": {
            "text/plain": [
              "<svgwrite.path.Path at 0x79643836b970>"
            ],
            "image/svg+xml": "<path d=\"M100 100 L200 100 L200 200 L100 200 Z\" fill=\"none\" stroke=\"black\" />"
          },
          "metadata": {},
          "execution_count": 11
        }
      ]
    },
    {
      "cell_type": "code",
      "source": [
        "print(path_data)"
      ],
      "metadata": {
        "colab": {
          "base_uri": "https://localhost:8080/"
        },
        "id": "74hjVptu3nQa",
        "outputId": "3e9642a5-b3fb-4802-83c2-a8f80da9d4b6"
      },
      "execution_count": null,
      "outputs": [
        {
          "output_type": "stream",
          "name": "stdout",
          "text": [
            "M100 100 L200 100 L200 200 L100 200 Z\n"
          ]
        }
      ]
    }
  ]
}